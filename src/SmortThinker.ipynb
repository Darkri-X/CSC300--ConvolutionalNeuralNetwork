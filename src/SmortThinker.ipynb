{
 "cells": [
  {
   "cell_type": "markdown",
   "metadata": {},
   "source": [
    "# CSC300 - Convolutional Neural Network Project\n",
    "> Goal: Build and train a CNN model using `tensorflow` and spectrograms given for the assignment."
   ]
  },
  {
   "cell_type": "markdown",
   "metadata": {},
   "source": [
    "## Loading data & Converting to Numbers\n",
    "1. Load Libraries\n",
    "2. Read CSV file with data structure"
   ]
  },
  {
   "cell_type": "code",
   "execution_count": 119,
   "metadata": {},
   "outputs": [],
   "source": [
    "import tensorflow as tf\n",
    "from tensorflow.keras.preprocessing.image import ImageDataGenerator\n",
    "from tensorflow.keras.models import Sequential\n",
    "from tensorflow.keras.layers import Conv2D, MaxPooling2D, Flatten, Dense, Dropout, Input\n",
    "import pandas as pd\n",
    "import numpy as np\n",
    "import os"
   ]
  },
  {
   "cell_type": "code",
   "execution_count": 120,
   "metadata": {},
   "outputs": [],
   "source": [
    "import sys\n",
    "from PIL import Image\n",
    "sys.modules['Image'] = Image"
   ]
  },
  {
   "cell_type": "code",
   "execution_count": 121,
   "metadata": {},
   "outputs": [],
   "source": [
    "labels_df = pd.read_csv('./spectrograms/labels.csv')"
   ]
  },
  {
   "cell_type": "markdown",
   "metadata": {},
   "source": [
    "The images are spectrograms and cannot be resizedas such we must ensure that all images are already in the required dimensions of 100x100 pixels before using them in the model. If any images do not meet this requirement, they should be excluded through ."
   ]
  },
  {
   "cell_type": "code",
   "execution_count": 122,
   "metadata": {},
   "outputs": [],
   "source": [
    "def isValidImage(imagePath, targetSize=(100, 100)):\n",
    "    image = Image.open(imagePath)\n",
    "    return image.size == targetSize"
   ]
  },
  {
   "cell_type": "code",
   "execution_count": 123,
   "metadata": {},
   "outputs": [],
   "source": [
    "def loadAndPreprocessImage(filePath, targetSize=(100, 100)):\n",
    "    image = Image.open(filePath)\n",
    "    image = np.array(image) / 255.0  # normalize the image\n",
    "    return image"
   ]
  },
  {
   "cell_type": "code",
   "execution_count": 124,
   "metadata": {},
   "outputs": [],
   "source": [
    "class CustomDataGenerator(tf.keras.utils.Sequence):\n",
    "    def __init__(self, dataframe, directory, xCol, yCol, targetSize=(100, 100), batchSize=32, classMode='categorical', subset=None):\n",
    "        self.dataframe = dataframe\n",
    "        self.directory = directory\n",
    "        self.xCol = xCol\n",
    "        self.yCol = yCol\n",
    "        self.targetSize = targetSize\n",
    "        self.batchSize = batchSize\n",
    "        self.classMode = classMode\n",
    "        self.subset = subset\n",
    "        self.datagen = ImageDataGenerator(validation_split=0.2)\n",
    "        self.validDataframe = self._filterDataframe()\n",
    "        self.samples = len(self.validDataframe)\n",
    "        self.generator = self.datagen.flow_from_dataframe(\n",
    "            dataframe=self.validDataframe,\n",
    "            directory=self.directory,\n",
    "            x_col=self.xCol,\n",
    "            y_col=self.yCol,\n",
    "            target_size=self.targetSize,\n",
    "            batch_size=self.batchSize,\n",
    "            class_mode=self.classMode,\n",
    "            subset=self.subset\n",
    "        )\n",
    "\n",
    "    def _filterDataframe(self):\n",
    "        validRows = []\n",
    "        for _, row in self.dataframe.iterrows():\n",
    "            imagePath = os.path.join(self.directory, row[self.xCol])\n",
    "            if isValidImage(imagePath, self.targetSize):\n",
    "                validRows.append(row)\n",
    "        return pd.DataFrame(validRows)\n",
    "\n",
    "    def __len__(self):\n",
    "        return len(self.generator)\n",
    "\n",
    "    def __getitem__(self, index):\n",
    "        return self.generator[index]"
   ]
  },
  {
   "cell_type": "code",
   "execution_count": 125,
   "metadata": {},
   "outputs": [],
   "source": [
    "from tensorflow.keras.preprocessing.image import ImageDataGenerator\n",
    "from tensorflow.keras.applications import VGG16\n",
    "from tensorflow.keras import layers, models, optimizers\n",
    "from tensorflow.keras.callbacks import EarlyStopping, ReduceLROnPlateau"
   ]
  },
  {
   "cell_type": "code",
   "execution_count": null,
   "metadata": {},
   "outputs": [],
   "source": []
  },
  {
   "cell_type": "code",
   "execution_count": 126,
   "metadata": {},
   "outputs": [],
   "source": [
    "# Data Augmentation\n",
    "train_datagen = ImageDataGenerator(\n",
    "    rescale=1./255,\n",
    "    rotation_range=40,\n",
    "    width_shift_range=0.2,\n",
    "    height_shift_range=0.2,\n",
    "    shear_range=0.2,\n",
    "    zoom_range=0.2,\n",
    "    horizontal_flip=True,\n",
    "    fill_mode='nearest'\n",
    ")\n",
    "\n",
    "validation_datagen = ImageDataGenerator(rescale=1./255)  # Only rescale for validation data"
   ]
  },
  {
   "cell_type": "code",
   "execution_count": 127,
   "metadata": {},
   "outputs": [
    {
     "name": "stdout",
     "output_type": "stream",
     "text": [
      "Found 2000 validated image filenames belonging to 5 classes.\n",
      "Found 500 validated image filenames belonging to 5 classes.\n"
     ]
    }
   ],
   "source": [
    "trainGenerator = CustomDataGenerator(\n",
    "    dataframe=labels_df,\n",
    "    directory='.',  # base directory for the relative image paths in the CSV\n",
    "    xCol='image_path',\n",
    "    yCol='class_label',\n",
    "    targetSize=(100, 100),\n",
    "    batchSize=256,\n",
    "    classMode='categorical',\n",
    "    subset='training'\n",
    ")\n",
    "\n",
    "validationGenerator = CustomDataGenerator(\n",
    "    dataframe=labels_df,\n",
    "    directory='.',  # base directory for the relative image paths in the CSV\n",
    "    xCol='image_path',\n",
    "    yCol='class_label',\n",
    "    targetSize=(100, 100),\n",
    "    batchSize=256,\n",
    "    classMode='categorical',\n",
    "    subset='validation'\n",
    ")"
   ]
  },
  {
   "cell_type": "code",
   "execution_count": 128,
   "metadata": {},
   "outputs": [
    {
     "name": "stdout",
     "output_type": "stream",
     "text": [
      "Downloading data from https://storage.googleapis.com/tensorflow/keras-applications/vgg16/vgg16_weights_tf_dim_ordering_tf_kernels_notop.h5\n",
      "\u001b[1m58889256/58889256\u001b[0m \u001b[32m━━━━━━━━━━━━━━━━━━━━\u001b[0m\u001b[37m\u001b[0m \u001b[1m10s\u001b[0m 0us/step\n"
     ]
    }
   ],
   "source": [
    "# Model Architecture with Transfer Learning\n",
    "base_model = VGG16(include_top=False, weights='imagenet', input_shape=(100, 100, 3))\n",
    "base_model.trainable = False  # Freeze the base model"
   ]
  },
  {
   "cell_type": "code",
   "execution_count": 129,
   "metadata": {},
   "outputs": [],
   "source": [
    "# Build model\n",
    "model = Sequential([\n",
    "    Input(shape=(100, 100, 3)),  # Specify the input shape in the Input layer\n",
    "    Conv2D(32, (3, 3), activation='relu'),\n",
    "    MaxPooling2D((2, 2)),\n",
    "    Conv2D(64, (3, 3), activation='relu'),\n",
    "    MaxPooling2D((2, 2)),\n",
    "    Conv2D(128, (3, 3), activation='relu'),\n",
    "    MaxPooling2D((2, 2)),\n",
    "    Flatten(),\n",
    "    Dropout(0.5),\n",
    "    Dense(64, activation='relu'),\n",
    "    Dense(5, activation='softmax')  # assuming 5 classes for labels a, b, c, d, e\n",
    "])"
   ]
  },
  {
   "cell_type": "code",
   "execution_count": 130,
   "metadata": {},
   "outputs": [],
   "source": [
    "# Compile model\n",
    "model.compile(\n",
    "    optimizer='adam',\n",
    "    loss='categorical_crossentropy',\n",
    "    metrics=['accuracy']\n",
    ")"
   ]
  },
  {
   "cell_type": "code",
   "execution_count": 131,
   "metadata": {},
   "outputs": [
    {
     "name": "stdout",
     "output_type": "stream",
     "text": [
      "Epoch 1/10\n"
     ]
    },
    {
     "name": "stderr",
     "output_type": "stream",
     "text": [
      "C:\\Users\\Work\\AppData\\Roaming\\Python\\Python312\\site-packages\\keras\\src\\trainers\\data_adapters\\py_dataset_adapter.py:121: UserWarning: Your `PyDataset` class should call `super().__init__(**kwargs)` in its constructor. `**kwargs` can include `workers`, `use_multiprocessing`, `max_queue_size`. Do not pass these arguments to `fit()`, as they will be ignored.\n",
      "  self._warn_if_super_not_called()\n"
     ]
    },
    {
     "name": "stdout",
     "output_type": "stream",
     "text": [
      "\u001b[1m8/9\u001b[0m \u001b[32m━━━━━━━━━━━━━━━━━\u001b[0m\u001b[37m━━━\u001b[0m \u001b[1m0s\u001b[0m 634ms/step - accuracy: 0.2162 - loss: 44.7163"
     ]
    },
    {
     "name": "stderr",
     "output_type": "stream",
     "text": [
      "c:\\Program Files\\Python312\\Lib\\contextlib.py:158: UserWarning: Your input ran out of data; interrupting training. Make sure that your dataset or generator can generate at least `steps_per_epoch * epochs` batches. You may need to use the `.repeat()` function when building your dataset.\n",
      "  self.gen.throw(value)\n"
     ]
    },
    {
     "name": "stdout",
     "output_type": "stream",
     "text": [
      "\u001b[1m9/9\u001b[0m \u001b[32m━━━━━━━━━━━━━━━━━━━━\u001b[0m\u001b[37m\u001b[0m \u001b[1m8s\u001b[0m 680ms/step - accuracy: 0.2162 - loss: 43.1267 - val_accuracy: 0.1800 - val_loss: 1.8888\n",
      "Epoch 2/10\n",
      "\u001b[1m9/9\u001b[0m \u001b[32m━━━━━━━━━━━━━━━━━━━━\u001b[0m\u001b[37m\u001b[0m \u001b[1m7s\u001b[0m 610ms/step - accuracy: 0.2147 - loss: 1.7386 - val_accuracy: 0.1560 - val_loss: 1.6180\n",
      "Epoch 3/10\n",
      "\u001b[1m9/9\u001b[0m \u001b[32m━━━━━━━━━━━━━━━━━━━━\u001b[0m\u001b[37m\u001b[0m \u001b[1m6s\u001b[0m 588ms/step - accuracy: 0.2270 - loss: 1.5951 - val_accuracy: 0.1540 - val_loss: 1.6225\n",
      "Epoch 4/10\n",
      "\u001b[1m9/9\u001b[0m \u001b[32m━━━━━━━━━━━━━━━━━━━━\u001b[0m\u001b[37m\u001b[0m \u001b[1m7s\u001b[0m 620ms/step - accuracy: 0.2518 - loss: 1.5611 - val_accuracy: 0.1920 - val_loss: 1.6003\n",
      "Epoch 5/10\n",
      "\u001b[1m9/9\u001b[0m \u001b[32m━━━━━━━━━━━━━━━━━━━━\u001b[0m\u001b[37m\u001b[0m \u001b[1m7s\u001b[0m 596ms/step - accuracy: 0.3144 - loss: 1.5363 - val_accuracy: 0.2340 - val_loss: 1.5633\n",
      "Epoch 6/10\n",
      "\u001b[1m9/9\u001b[0m \u001b[32m━━━━━━━━━━━━━━━━━━━━\u001b[0m\u001b[37m\u001b[0m \u001b[1m7s\u001b[0m 585ms/step - accuracy: 0.3451 - loss: 1.4935 - val_accuracy: 0.2520 - val_loss: 1.5970\n",
      "Epoch 7/10\n",
      "\u001b[1m9/9\u001b[0m \u001b[32m━━━━━━━━━━━━━━━━━━━━\u001b[0m\u001b[37m\u001b[0m \u001b[1m6s\u001b[0m 588ms/step - accuracy: 0.3786 - loss: 1.4655 - val_accuracy: 0.2360 - val_loss: 1.5466\n",
      "Epoch 8/10\n",
      "\u001b[1m9/9\u001b[0m \u001b[32m━━━━━━━━━━━━━━━━━━━━\u001b[0m\u001b[37m\u001b[0m \u001b[1m6s\u001b[0m 588ms/step - accuracy: 0.3832 - loss: 1.4322 - val_accuracy: 0.2460 - val_loss: 1.5468\n",
      "Epoch 9/10\n",
      "\u001b[1m9/9\u001b[0m \u001b[32m━━━━━━━━━━━━━━━━━━━━\u001b[0m\u001b[37m\u001b[0m \u001b[1m7s\u001b[0m 624ms/step - accuracy: 0.3935 - loss: 1.4472 - val_accuracy: 0.2300 - val_loss: 1.5628\n",
      "Epoch 10/10\n",
      "\u001b[1m9/9\u001b[0m \u001b[32m━━━━━━━━━━━━━━━━━━━━\u001b[0m\u001b[37m\u001b[0m \u001b[1m6s\u001b[0m 576ms/step - accuracy: 0.4166 - loss: 1.3762 - val_accuracy: 0.2760 - val_loss: 1.5393\n"
     ]
    }
   ],
   "source": [
    "# Train model\n",
    "history = model.fit(\n",
    "    trainGenerator,\n",
    "    steps_per_epoch=trainGenerator.samples // trainGenerator.batchSize,\n",
    "    validation_data=validationGenerator,\n",
    "    validation_steps=validationGenerator.samples // validationGenerator.batchSize,\n",
    "    epochs=10  # adjust the number of epochs as needed\n",
    ")"
   ]
  },
  {
   "cell_type": "code",
   "execution_count": 132,
   "metadata": {},
   "outputs": [
    {
     "name": "stdout",
     "output_type": "stream",
     "text": [
      "\u001b[1m2/2\u001b[0m \u001b[32m━━━━━━━━━━━━━━━━━━━━\u001b[0m\u001b[37m\u001b[0m \u001b[1m1s\u001b[0m 234ms/step - accuracy: 0.2817 - loss: 1.5305\n",
      "Validation Loss: 1.539275884628296\n",
      "Validation Accuracy: 0.2759999930858612\n"
     ]
    }
   ],
   "source": [
    "# Evaluate model\n",
    "valLoss, valAcc = model.evaluate(validationGenerator)\n",
    "print(f'Validation Loss: {valLoss}')\n",
    "print(f'Validation Accuracy: {valAcc}')"
   ]
  },
  {
   "cell_type": "code",
   "execution_count": 133,
   "metadata": {},
   "outputs": [
    {
     "name": "stderr",
     "output_type": "stream",
     "text": [
      "WARNING:absl:You are saving your model as an HDF5 file via `model.save()` or `keras.saving.save_model(model)`. This file format is considered legacy. We recommend using instead the native Keras format, e.g. `model.save('my_model.keras')` or `keras.saving.save_model(model, 'my_model.keras')`. \n"
     ]
    }
   ],
   "source": [
    "# Save model\n",
    "model.save('imageClassifierModel.h5')"
   ]
  }
 ],
 "metadata": {
  "kernelspec": {
   "display_name": "Python 3",
   "language": "python",
   "name": "python3"
  },
  "language_info": {
   "codemirror_mode": {
    "name": "ipython",
    "version": 3
   },
   "file_extension": ".py",
   "mimetype": "text/x-python",
   "name": "python",
   "nbconvert_exporter": "python",
   "pygments_lexer": "ipython3",
   "version": "3.12.4"
  }
 },
 "nbformat": 4,
 "nbformat_minor": 2
}
