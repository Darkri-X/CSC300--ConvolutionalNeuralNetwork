{
 "cells": [
  {
   "cell_type": "markdown",
   "metadata": {},
   "source": [
    "# CSC300 - Convolutional Neural Network Project\n",
    "> Goal: Build and train a CNN model using `tensorflow` and spectrograms given for the assignment."
   ]
  },
  {
   "cell_type": "markdown",
   "metadata": {},
   "source": [
    "## Loading data & Converting to Numbers\n",
    "1. Load Libraries\n",
    "2. Read CSV file with data structure"
   ]
  },
  {
   "cell_type": "code",
   "execution_count": 106,
   "metadata": {},
   "outputs": [],
   "source": [
    "import tensorflow as tf\n",
    "from tensorflow.keras.preprocessing.image import ImageDataGenerator\n",
    "from tensorflow.keras.models import Sequential\n",
    "from tensorflow.keras.layers import Conv2D, MaxPooling2D, Flatten, Dense, Dropout, Input\n",
    "import pandas as pd\n",
    "import numpy as np\n",
    "import os"
   ]
  },
  {
   "cell_type": "code",
   "execution_count": 107,
   "metadata": {},
   "outputs": [],
   "source": [
    "import sys\n",
    "from PIL import Image\n",
    "sys.modules['Image'] = Image"
   ]
  },
  {
   "cell_type": "code",
   "execution_count": 108,
   "metadata": {},
   "outputs": [],
   "source": [
    "labels_df = pd.read_csv('./spectrograms/labels.csv')"
   ]
  },
  {
   "cell_type": "markdown",
   "metadata": {},
   "source": [
    "The images are spectrograms and cannot be resizedas such we must ensure that all images are already in the required dimensions of 100x100 pixels before using them in the model. If any images do not meet this requirement, they should be excluded through ."
   ]
  },
  {
   "cell_type": "code",
   "execution_count": 109,
   "metadata": {},
   "outputs": [],
   "source": [
    "def isValidImage(imagePath, targetSize=(100, 100)):\n",
    "    image = Image.open(imagePath)\n",
    "    return image.size == targetSize"
   ]
  },
  {
   "cell_type": "code",
   "execution_count": 110,
   "metadata": {},
   "outputs": [],
   "source": [
    "def loadAndPreprocessImage(filePath, targetSize=(100, 100)):\n",
    "    image = Image.open(filePath)\n",
    "    image = np.array(image) / 255.0  # normalize the image\n",
    "    return image"
   ]
  },
  {
   "cell_type": "code",
   "execution_count": 111,
   "metadata": {},
   "outputs": [],
   "source": [
    "class CustomDataGenerator(tf.keras.utils.Sequence):\n",
    "    def __init__(self, dataframe, directory, xCol, yCol, targetSize=(100, 100), batchSize=32, classMode='categorical', subset=None):\n",
    "        self.dataframe = dataframe\n",
    "        self.directory = directory\n",
    "        self.xCol = xCol\n",
    "        self.yCol = yCol\n",
    "        self.targetSize = targetSize\n",
    "        self.batchSize = batchSize\n",
    "        self.classMode = classMode\n",
    "        self.subset = subset\n",
    "        self.datagen = ImageDataGenerator(validation_split=0.2)\n",
    "        self.validDataframe = self._filterDataframe()\n",
    "        self.samples = len(self.validDataframe)\n",
    "        self.generator = self.datagen.flow_from_dataframe(\n",
    "            dataframe=self.validDataframe,\n",
    "            directory=self.directory,\n",
    "            x_col=self.xCol,\n",
    "            y_col=self.yCol,\n",
    "            target_size=self.targetSize,\n",
    "            batch_size=self.batchSize,\n",
    "            class_mode=self.classMode,\n",
    "            subset=self.subset\n",
    "        )\n",
    "\n",
    "    def _filterDataframe(self):\n",
    "        validRows = []\n",
    "        for _, row in self.dataframe.iterrows():\n",
    "            imagePath = os.path.join(self.directory, row[self.xCol])\n",
    "            if isValidImage(imagePath, self.targetSize):\n",
    "                validRows.append(row)\n",
    "        return pd.DataFrame(validRows)\n",
    "\n",
    "    def __len__(self):\n",
    "        return len(self.generator)\n",
    "\n",
    "    def __getitem__(self, index):\n",
    "        return self.generator[index]"
   ]
  },
  {
   "cell_type": "code",
   "execution_count": 112,
   "metadata": {},
   "outputs": [
    {
     "name": "stdout",
     "output_type": "stream",
     "text": [
      "Found 2000 validated image filenames belonging to 5 classes.\n",
      "Found 500 validated image filenames belonging to 5 classes.\n"
     ]
    }
   ],
   "source": [
    "trainGenerator = CustomDataGenerator(\n",
    "    dataframe=labels_df,\n",
    "    directory='.',  # base directory for the relative image paths in the CSV\n",
    "    xCol='image_path',\n",
    "    yCol='class_label',\n",
    "    targetSize=(100, 100),\n",
    "    batchSize=256,\n",
    "    classMode='categorical',\n",
    "    subset='training'\n",
    ")\n",
    "\n",
    "validationGenerator = CustomDataGenerator(\n",
    "    dataframe=labels_df,\n",
    "    directory='.',  # base directory for the relative image paths in the CSV\n",
    "    xCol='image_path',\n",
    "    yCol='class_label',\n",
    "    targetSize=(100, 100),\n",
    "    batchSize=256,\n",
    "    classMode='categorical',\n",
    "    subset='validation'\n",
    ")"
   ]
  },
  {
   "cell_type": "code",
   "execution_count": 113,
   "metadata": {},
   "outputs": [],
   "source": [
    "# Build model\n",
    "model = Sequential([\n",
    "    Input(shape=(100, 100, 3)),  # Specify the input shape in the Input layer\n",
    "    Conv2D(32, (3, 3), activation='relu'),\n",
    "    MaxPooling2D((2, 2)),\n",
    "    Conv2D(64, (3, 3), activation='relu'),\n",
    "    MaxPooling2D((2, 2)),\n",
    "    Conv2D(128, (3, 3), activation='relu'),\n",
    "    MaxPooling2D((2, 2)),\n",
    "    Flatten(),\n",
    "    Dropout(0.5),\n",
    "    Dense(64, activation='relu'),\n",
    "    Dense(5, activation='softmax')  # assuming 5 classes for labels a, b, c, d, e\n",
    "])"
   ]
  },
  {
   "cell_type": "code",
   "execution_count": 114,
   "metadata": {},
   "outputs": [],
   "source": [
    "# Compile model\n",
    "model.compile(\n",
    "    optimizer='adam',\n",
    "    loss='categorical_crossentropy',\n",
    "    metrics=['accuracy']\n",
    ")"
   ]
  },
  {
   "cell_type": "code",
   "execution_count": 115,
   "metadata": {},
   "outputs": [
    {
     "name": "stdout",
     "output_type": "stream",
     "text": [
      "Epoch 1/10\n"
     ]
    },
    {
     "name": "stderr",
     "output_type": "stream",
     "text": [
      "C:\\Users\\Work\\AppData\\Roaming\\Python\\Python312\\site-packages\\keras\\src\\trainers\\data_adapters\\py_dataset_adapter.py:121: UserWarning: Your `PyDataset` class should call `super().__init__(**kwargs)` in its constructor. `**kwargs` can include `workers`, `use_multiprocessing`, `max_queue_size`. Do not pass these arguments to `fit()`, as they will be ignored.\n",
      "  self._warn_if_super_not_called()\n"
     ]
    },
    {
     "name": "stdout",
     "output_type": "stream",
     "text": [
      "\u001b[1m8/9\u001b[0m \u001b[32m━━━━━━━━━━━━━━━━━\u001b[0m\u001b[37m━━━\u001b[0m \u001b[1m0s\u001b[0m 751ms/step - accuracy: 0.1879 - loss: 75.2983"
     ]
    },
    {
     "name": "stderr",
     "output_type": "stream",
     "text": [
      "c:\\Program Files\\Python312\\Lib\\contextlib.py:158: UserWarning: Your input ran out of data; interrupting training. Make sure that your dataset or generator can generate at least `steps_per_epoch * epochs` batches. You may need to use the `.repeat()` function when building your dataset.\n",
      "  self.gen.throw(value)\n"
     ]
    },
    {
     "name": "stdout",
     "output_type": "stream",
     "text": [
      "\u001b[1m9/9\u001b[0m \u001b[32m━━━━━━━━━━━━━━━━━━━━\u001b[0m\u001b[37m\u001b[0m \u001b[1m10s\u001b[0m 795ms/step - accuracy: 0.1899 - loss: 72.7680 - val_accuracy: 0.1440 - val_loss: 1.9307\n",
      "Epoch 2/10\n",
      "\u001b[1m9/9\u001b[0m \u001b[32m━━━━━━━━━━━━━━━━━━━━\u001b[0m\u001b[37m\u001b[0m \u001b[1m8s\u001b[0m 732ms/step - accuracy: 0.2225 - loss: 1.7196 - val_accuracy: 0.2220 - val_loss: 1.6046\n",
      "Epoch 3/10\n",
      "\u001b[1m9/9\u001b[0m \u001b[32m━━━━━━━━━━━━━━━━━━━━\u001b[0m\u001b[37m\u001b[0m \u001b[1m8s\u001b[0m 773ms/step - accuracy: 0.3238 - loss: 1.5320 - val_accuracy: 0.2520 - val_loss: 1.5829\n",
      "Epoch 4/10\n",
      "\u001b[1m9/9\u001b[0m \u001b[32m━━━━━━━━━━━━━━━━━━━━\u001b[0m\u001b[37m\u001b[0m \u001b[1m8s\u001b[0m 733ms/step - accuracy: 0.3511 - loss: 1.4931 - val_accuracy: 0.2920 - val_loss: 1.5571\n",
      "Epoch 5/10\n",
      "\u001b[1m9/9\u001b[0m \u001b[32m━━━━━━━━━━━━━━━━━━━━\u001b[0m\u001b[37m\u001b[0m \u001b[1m8s\u001b[0m 717ms/step - accuracy: 0.3798 - loss: 1.4432 - val_accuracy: 0.2560 - val_loss: 1.5645\n",
      "Epoch 6/10\n",
      "\u001b[1m9/9\u001b[0m \u001b[32m━━━━━━━━━━━━━━━━━━━━\u001b[0m\u001b[37m\u001b[0m \u001b[1m8s\u001b[0m 728ms/step - accuracy: 0.3794 - loss: 1.4474 - val_accuracy: 0.2840 - val_loss: 1.5388\n",
      "Epoch 7/10\n",
      "\u001b[1m9/9\u001b[0m \u001b[32m━━━━━━━━━━━━━━━━━━━━\u001b[0m\u001b[37m\u001b[0m \u001b[1m8s\u001b[0m 718ms/step - accuracy: 0.4162 - loss: 1.3984 - val_accuracy: 0.2920 - val_loss: 1.5621\n",
      "Epoch 8/10\n",
      "\u001b[1m9/9\u001b[0m \u001b[32m━━━━━━━━━━━━━━━━━━━━\u001b[0m\u001b[37m\u001b[0m \u001b[1m8s\u001b[0m 710ms/step - accuracy: 0.4528 - loss: 1.3742 - val_accuracy: 0.3640 - val_loss: 1.5351\n",
      "Epoch 9/10\n",
      "\u001b[1m9/9\u001b[0m \u001b[32m━━━━━━━━━━━━━━━━━━━━\u001b[0m\u001b[37m\u001b[0m \u001b[1m7s\u001b[0m 695ms/step - accuracy: 0.4726 - loss: 1.3239 - val_accuracy: 0.3700 - val_loss: 1.5462\n",
      "Epoch 10/10\n",
      "\u001b[1m9/9\u001b[0m \u001b[32m━━━━━━━━━━━━━━━━━━━━\u001b[0m\u001b[37m\u001b[0m \u001b[1m7s\u001b[0m 686ms/step - accuracy: 0.4728 - loss: 1.3203 - val_accuracy: 0.3680 - val_loss: 1.5257\n"
     ]
    }
   ],
   "source": [
    "# Train model\n",
    "history = model.fit(\n",
    "    trainGenerator,\n",
    "    steps_per_epoch=trainGenerator.samples // trainGenerator.batchSize,\n",
    "    validation_data=validationGenerator,\n",
    "    validation_steps=validationGenerator.samples // validationGenerator.batchSize,\n",
    "    epochs=10  # adjust the number of epochs as needed\n",
    ")"
   ]
  },
  {
   "cell_type": "code",
   "execution_count": 116,
   "metadata": {},
   "outputs": [
    {
     "name": "stdout",
     "output_type": "stream",
     "text": [
      "\u001b[1m2/2\u001b[0m \u001b[32m━━━━━━━━━━━━━━━━━━━━\u001b[0m\u001b[37m\u001b[0m \u001b[1m1s\u001b[0m 279ms/step - accuracy: 0.3768 - loss: 1.5249\n",
      "Validation Loss: 1.5257457494735718\n",
      "Validation Accuracy: 0.36800000071525574\n"
     ]
    }
   ],
   "source": [
    "# Evaluate model\n",
    "valLoss, valAcc = model.evaluate(validationGenerator)\n",
    "print(f'Validation Loss: {valLoss}')\n",
    "print(f'Validation Accuracy: {valAcc}')"
   ]
  },
  {
   "cell_type": "code",
   "execution_count": 117,
   "metadata": {},
   "outputs": [
    {
     "name": "stderr",
     "output_type": "stream",
     "text": [
      "WARNING:absl:You are saving your model as an HDF5 file via `model.save()` or `keras.saving.save_model(model)`. This file format is considered legacy. We recommend using instead the native Keras format, e.g. `model.save('my_model.keras')` or `keras.saving.save_model(model, 'my_model.keras')`. \n"
     ]
    }
   ],
   "source": [
    "# Save model\n",
    "model.save('imageClassifierModel.h5')"
   ]
  }
 ],
 "metadata": {
  "kernelspec": {
   "display_name": "Python 3",
   "language": "python",
   "name": "python3"
  },
  "language_info": {
   "codemirror_mode": {
    "name": "ipython",
    "version": 3
   },
   "file_extension": ".py",
   "mimetype": "text/x-python",
   "name": "python",
   "nbconvert_exporter": "python",
   "pygments_lexer": "ipython3",
   "version": "3.12.4"
  }
 },
 "nbformat": 4,
 "nbformat_minor": 2
}
